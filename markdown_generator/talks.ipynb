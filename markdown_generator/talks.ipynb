{
 "cells": [
  {
   "cell_type": "markdown",
   "metadata": {
    "deletable": true,
    "editable": true
   },
   "source": [
    "# Talks markdown generator for academicpages\n",
    "\n",
    "Takes a TSV of talks with metadata and converts them for use with [academicpages.github.io](academicpages.github.io). This is an interactive Jupyter notebook ([see more info here](http://jupyter-notebook-beginner-guide.readthedocs.io/en/latest/what_is_jupyter.html)). The core python code is also in `talks.py`. Run either from the `markdown_generator` folder after replacing `talks.tsv` with one containing your data.\n",
    "\n",
    "TODO: Make this work with BibTex and other databases, rather than Stuart's non-standard TSV format and citation style."
   ]
  },
  {
   "cell_type": "code",
   "execution_count": 43,
   "metadata": {
    "collapsed": false,
    "deletable": true,
    "editable": true
   },
   "outputs": [],
   "source": [
    "import pandas as pd\n",
    "import os"
   ]
  },
  {
   "cell_type": "markdown",
   "metadata": {},
   "source": [
    "## Data format\n",
    "\n",
    "The TSV needs to have the following columns: title, type, url_slug, venue, date, location, talk_url, description, with a header at the top. Many of these fields can be blank, but the columns must be in the TSV.\n",
    "\n",
    "- Fields that cannot be blank: `title`, `url_slug`, `date`. All else can be blank. `type` defaults to \"Talk\" \n",
    "- `date` must be formatted as YYYY-MM-DD.\n",
    "- `url_slug` will be the descriptive part of the .md file and the permalink URL for the page about the paper. \n",
    "    - The .md file will be `YYYY-MM-DD-[url_slug].md` and the permalink will be `https://[yourdomain]/talks/YYYY-MM-DD-[url_slug]`\n",
    "    - The combination of `url_slug` and `date` must be unique, as it will be the basis for your filenames\n",
    "\n",
    "This is how the raw file looks (it doesn't look pretty, use a spreadsheet or other program to edit and create)."
   ]
  },
  {
   "cell_type": "code",
   "execution_count": 44,
   "metadata": {
    "collapsed": false
   },
   "outputs": [
    {
     "name": "stdout",
     "output_type": "stream",
     "text": [
      "title\ttype\turl_slug\tvenue\tdate\tlocation\ttalk_url\tdescription\n",
      "A tailored analysis of data from OMARS designs\tTalk\ttalk-1\tEuropean Network for Business and Industrial Statistics (ENBIS)\t2021-09-14\tOnline\thttps://conferences.enbis.org/event/11/contributions/128/\t\n",
      "One D-optimal main effects design is not the other\tTalk\ttalk-2\tEuropean Network for Business and Industrial Statistics (ENBIS)\t2022-06-27\t\"Trondheim, Norway\"\thttps://conferences.enbis.org/event/18/contributions/259/\t\n",
      "D- and A- optimal screening designs. What if n is not a multiple of 4?\tTalk\ttalk-3\tInternational Conference on Design of Experiments (ICODOE)\t2023-05-11\t\"Memphis, TN, USA\"\thttps://www.memphis.edu/msci/icodoe22/pdfs/icodoe-2022-booklet.pdf\t\n",
      "Multi-criteria evaluation and selection of experimental designs from a catalog\tTalk\ttalk-4\tFall Technical Conference (FTC)\t2023-10-06\t\"Raleigh, NC, USA\"\thttps://falltechnicalconference.org/2023-abstracts/#6A1\t\n",
      "Optimal experimental design when not all tests are equally expensive\tTalk\ttalk-5\tEuropean Network for Business and Industrial Statistics (ENBIS)\t2024-09-17\t\"Leuven, Belgium\"\thttps://conferences.enbis.org/event/34/contributions/800/\t\n",
      "Minimally aliased D- and A-optimal main-effects designs\tTalk\ttalk-6\tFall Technical Conference (FTC)\t2024-10-09\t\"Nashville, TN, USA\"\thttps://falltechnicalconference.org/2024-abstracts/#2A1\t\n",
      "D- and A- optimal main effects designs for screening experiments\tSeminar\tsem-1\tKU Leuven\t2022-12-06\t\"Leuven, Belgium\"\thttp://www.experimental-design.eu/doe-it/\t\n",
      "A study of design-based model selection methods\tSeminar\tsem-2\tKU Leuven\t2020-04-24\t\"Leuven, Belgium\"\thttp://www.experimental-design.eu/doe-it/\t\n",
      "Finding the Optimal Cocktail\tSeminar\tsem-3\tKU Leuven\t2019-09-24\t\"Leuven, Belgium\"\thttp://www.experimental-design.eu/doe-it/\t"
     ]
    }
   ],
   "source": [
    "!cat talks.tsv"
   ]
  },
  {
   "cell_type": "markdown",
   "metadata": {},
   "source": [
    "## Import TSV\n",
    "\n",
    "Pandas makes this easy with the read_csv function. We are using a TSV, so we specify the separator as a tab, or `\\t`.\n",
    "\n",
    "I found it important to put this data in a tab-separated values format, because there are a lot of commas in this kind of data and comma-separated values can get messed up. However, you can modify the import statement, as pandas also has read_excel(), read_json(), and others."
   ]
  },
  {
   "cell_type": "code",
   "execution_count": 45,
   "metadata": {
    "collapsed": false,
    "deletable": true,
    "editable": true
   },
   "outputs": [
    {
     "data": {
      "text/html": [
       "<div>\n",
       "<style scoped>\n",
       "    .dataframe tbody tr th:only-of-type {\n",
       "        vertical-align: middle;\n",
       "    }\n",
       "\n",
       "    .dataframe tbody tr th {\n",
       "        vertical-align: top;\n",
       "    }\n",
       "\n",
       "    .dataframe thead th {\n",
       "        text-align: right;\n",
       "    }\n",
       "</style>\n",
       "<table border=\"1\" class=\"dataframe\">\n",
       "  <thead>\n",
       "    <tr style=\"text-align: right;\">\n",
       "      <th></th>\n",
       "      <th>title</th>\n",
       "      <th>type</th>\n",
       "      <th>url_slug</th>\n",
       "      <th>venue</th>\n",
       "      <th>date</th>\n",
       "      <th>location</th>\n",
       "      <th>talk_url</th>\n",
       "      <th>description</th>\n",
       "    </tr>\n",
       "  </thead>\n",
       "  <tbody>\n",
       "    <tr>\n",
       "      <th>0</th>\n",
       "      <td>A tailored analysis of data from OMARS designs</td>\n",
       "      <td>Talk</td>\n",
       "      <td>talk-1</td>\n",
       "      <td>European Network for Business and Industrial S...</td>\n",
       "      <td>2021-09-14</td>\n",
       "      <td>Online</td>\n",
       "      <td>https://conferences.enbis.org/event/11/contrib...</td>\n",
       "      <td>NaN</td>\n",
       "    </tr>\n",
       "    <tr>\n",
       "      <th>1</th>\n",
       "      <td>One D-optimal main effects design is not the o...</td>\n",
       "      <td>Talk</td>\n",
       "      <td>talk-2</td>\n",
       "      <td>European Network for Business and Industrial S...</td>\n",
       "      <td>2022-06-27</td>\n",
       "      <td>Trondheim, Norway</td>\n",
       "      <td>https://conferences.enbis.org/event/18/contrib...</td>\n",
       "      <td>NaN</td>\n",
       "    </tr>\n",
       "    <tr>\n",
       "      <th>2</th>\n",
       "      <td>D- and A- optimal screening designs. What if n...</td>\n",
       "      <td>Talk</td>\n",
       "      <td>talk-3</td>\n",
       "      <td>International Conference on Design of Experime...</td>\n",
       "      <td>2023-05-11</td>\n",
       "      <td>Memphis, TN, USA</td>\n",
       "      <td>https://www.memphis.edu/msci/icodoe22/pdfs/ico...</td>\n",
       "      <td>NaN</td>\n",
       "    </tr>\n",
       "    <tr>\n",
       "      <th>3</th>\n",
       "      <td>Multi-criteria evaluation and selection of exp...</td>\n",
       "      <td>Talk</td>\n",
       "      <td>talk-4</td>\n",
       "      <td>Fall Technical Conference (FTC)</td>\n",
       "      <td>2023-10-06</td>\n",
       "      <td>Raleigh, NC, USA</td>\n",
       "      <td>https://falltechnicalconference.org/2023-abstr...</td>\n",
       "      <td>NaN</td>\n",
       "    </tr>\n",
       "    <tr>\n",
       "      <th>4</th>\n",
       "      <td>Optimal experimental design when not all tests...</td>\n",
       "      <td>Talk</td>\n",
       "      <td>talk-5</td>\n",
       "      <td>European Network for Business and Industrial S...</td>\n",
       "      <td>2024-09-17</td>\n",
       "      <td>Leuven, Belgium</td>\n",
       "      <td>https://conferences.enbis.org/event/34/contrib...</td>\n",
       "      <td>NaN</td>\n",
       "    </tr>\n",
       "    <tr>\n",
       "      <th>5</th>\n",
       "      <td>Minimally aliased D- and A-optimal main-effect...</td>\n",
       "      <td>Talk</td>\n",
       "      <td>talk-6</td>\n",
       "      <td>Fall Technical Conference (FTC)</td>\n",
       "      <td>2024-10-09</td>\n",
       "      <td>Nashville, TN, USA</td>\n",
       "      <td>https://falltechnicalconference.org/2024-abstr...</td>\n",
       "      <td>NaN</td>\n",
       "    </tr>\n",
       "    <tr>\n",
       "      <th>6</th>\n",
       "      <td>D- and A- optimal main effects designs for scr...</td>\n",
       "      <td>Seminar</td>\n",
       "      <td>sem-1</td>\n",
       "      <td>KU Leuven</td>\n",
       "      <td>2022-12-06</td>\n",
       "      <td>Leuven, Belgium</td>\n",
       "      <td>http://www.experimental-design.eu/doe-it/</td>\n",
       "      <td>NaN</td>\n",
       "    </tr>\n",
       "    <tr>\n",
       "      <th>7</th>\n",
       "      <td>A study of design-based model selection methods</td>\n",
       "      <td>Seminar</td>\n",
       "      <td>sem-2</td>\n",
       "      <td>KU Leuven</td>\n",
       "      <td>2020-04-24</td>\n",
       "      <td>Leuven, Belgium</td>\n",
       "      <td>http://www.experimental-design.eu/doe-it/</td>\n",
       "      <td>NaN</td>\n",
       "    </tr>\n",
       "    <tr>\n",
       "      <th>8</th>\n",
       "      <td>Finding the Optimal Cocktail</td>\n",
       "      <td>Seminar</td>\n",
       "      <td>sem-3</td>\n",
       "      <td>KU Leuven</td>\n",
       "      <td>2019-09-24</td>\n",
       "      <td>Leuven, Belgium</td>\n",
       "      <td>http://www.experimental-design.eu/doe-it/</td>\n",
       "      <td>NaN</td>\n",
       "    </tr>\n",
       "  </tbody>\n",
       "</table>\n",
       "</div>"
      ],
      "text/plain": [
       "                                               title     type url_slug  \\\n",
       "0     A tailored analysis of data from OMARS designs     Talk   talk-1   \n",
       "1  One D-optimal main effects design is not the o...     Talk   talk-2   \n",
       "2  D- and A- optimal screening designs. What if n...     Talk   talk-3   \n",
       "3  Multi-criteria evaluation and selection of exp...     Talk   talk-4   \n",
       "4  Optimal experimental design when not all tests...     Talk   talk-5   \n",
       "5  Minimally aliased D- and A-optimal main-effect...     Talk   talk-6   \n",
       "6  D- and A- optimal main effects designs for scr...  Seminar    sem-1   \n",
       "7    A study of design-based model selection methods  Seminar    sem-2   \n",
       "8                       Finding the Optimal Cocktail  Seminar    sem-3   \n",
       "\n",
       "                                               venue        date  \\\n",
       "0  European Network for Business and Industrial S...  2021-09-14   \n",
       "1  European Network for Business and Industrial S...  2022-06-27   \n",
       "2  International Conference on Design of Experime...  2023-05-11   \n",
       "3                    Fall Technical Conference (FTC)  2023-10-06   \n",
       "4  European Network for Business and Industrial S...  2024-09-17   \n",
       "5                    Fall Technical Conference (FTC)  2024-10-09   \n",
       "6                                          KU Leuven  2022-12-06   \n",
       "7                                          KU Leuven  2020-04-24   \n",
       "8                                          KU Leuven  2019-09-24   \n",
       "\n",
       "             location                                           talk_url  \\\n",
       "0              Online  https://conferences.enbis.org/event/11/contrib...   \n",
       "1   Trondheim, Norway  https://conferences.enbis.org/event/18/contrib...   \n",
       "2    Memphis, TN, USA  https://www.memphis.edu/msci/icodoe22/pdfs/ico...   \n",
       "3    Raleigh, NC, USA  https://falltechnicalconference.org/2023-abstr...   \n",
       "4     Leuven, Belgium  https://conferences.enbis.org/event/34/contrib...   \n",
       "5  Nashville, TN, USA  https://falltechnicalconference.org/2024-abstr...   \n",
       "6     Leuven, Belgium          http://www.experimental-design.eu/doe-it/   \n",
       "7     Leuven, Belgium          http://www.experimental-design.eu/doe-it/   \n",
       "8     Leuven, Belgium          http://www.experimental-design.eu/doe-it/   \n",
       "\n",
       "   description  \n",
       "0          NaN  \n",
       "1          NaN  \n",
       "2          NaN  \n",
       "3          NaN  \n",
       "4          NaN  \n",
       "5          NaN  \n",
       "6          NaN  \n",
       "7          NaN  \n",
       "8          NaN  "
      ]
     },
     "execution_count": 45,
     "metadata": {},
     "output_type": "execute_result"
    }
   ],
   "source": [
    "talks = pd.read_csv(\"talks.tsv\", sep=\"\\t\", header=0)\n",
    "talks"
   ]
  },
  {
   "cell_type": "markdown",
   "metadata": {},
   "source": [
    "## Escape special characters\n",
    "\n",
    "YAML is very picky about how it takes a valid string, so we are replacing single and double quotes (and ampersands) with their HTML encoded equivilents. This makes them look not so readable in raw format, but they are parsed and rendered nicely."
   ]
  },
  {
   "cell_type": "code",
   "execution_count": 46,
   "metadata": {
    "collapsed": false,
    "deletable": true,
    "editable": true
   },
   "outputs": [],
   "source": [
    "html_escape_table = {\n",
    "    \"&\": \"&amp;\",\n",
    "    '\"': \"&quot;\",\n",
    "    \"'\": \"&apos;\"\n",
    "    }\n",
    "\n",
    "def html_escape(text):\n",
    "    if type(text) is str:\n",
    "        return \"\".join(html_escape_table.get(c,c) for c in text)\n",
    "    else:\n",
    "        return \"False\""
   ]
  },
  {
   "cell_type": "markdown",
   "metadata": {},
   "source": [
    "## Creating the markdown files\n",
    "\n",
    "This is where the heavy lifting is done. This loops through all the rows in the TSV dataframe, then starts to concatentate a big string (```md```) that contains the markdown for each type. It does the YAML metadata first, then does the description for the individual page."
   ]
  },
  {
   "cell_type": "code",
   "execution_count": 47,
   "metadata": {
    "collapsed": false,
    "deletable": true,
    "editable": true
   },
   "outputs": [],
   "source": [
    "loc_dict = {}\n",
    "\n",
    "for row, item in talks.iterrows():\n",
    "    \n",
    "    md_filename = str(item.date) + \"-\" + item.url_slug + \".md\"\n",
    "    html_filename = str(item.date) + \"-\" + item.url_slug \n",
    "    year = item.date[:4]\n",
    "    \n",
    "    md = \"---\\ntitle: \\\"\"   + item.title + '\"\\n'\n",
    "    md += \"collection: talks\" + \"\\n\"\n",
    "    \n",
    "    if len(str(item.type)) > 3:\n",
    "        md += 'type: \"' + item.type + '\"\\n'\n",
    "    else:\n",
    "        md += 'type: \"Talk\"\\n'\n",
    "    \n",
    "    md += \"permalink: /talks/\" + html_filename + \"\\n\"\n",
    "    \n",
    "    if len(str(item.venue)) > 3:\n",
    "        md += 'venue: \"' + item.venue + '\"\\n'\n",
    "        \n",
    "    if len(str(item.location)) > 3:\n",
    "        md += \"date: \" + str(item.date) + \"\\n\"\n",
    "    \n",
    "    if len(str(item.location)) > 3:\n",
    "        md += 'location: \"' + str(item.location) + '\"\\n'\n",
    "           \n",
    "    md += \"---\\n\"\n",
    "    \n",
    "    \n",
    "    if len(str(item.talk_url)) > 3:\n",
    "        md += \"\\n[More information here](\" + item.talk_url + \")\\n\" \n",
    "        \n",
    "    \n",
    "    if len(str(item.description)) > 3:\n",
    "        md += \"\\n\" + html_escape(item.description) + \"\\n\"\n",
    "        \n",
    "        \n",
    "    md_filename = os.path.basename(md_filename)\n",
    "    #print(md)\n",
    "    \n",
    "    with open(\"../_talks/\" + md_filename, 'w') as f:\n",
    "        f.write(md)"
   ]
  },
  {
   "cell_type": "markdown",
   "metadata": {},
   "source": [
    "These files are in the talks directory, one directory below where we're working from."
   ]
  },
  {
   "cell_type": "code",
   "execution_count": 48,
   "metadata": {
    "collapsed": false,
    "deletable": true,
    "editable": true
   },
   "outputs": [
    {
     "name": "stdout",
     "output_type": "stream",
     "text": [
      "19-sem-3.md          2022-12-06-sem-1.md  22-sem-1.md\n",
      "20-sem-2.md          2023-05-11-talk-3.md 22-talk-2.md\n",
      "2019-09-24-sem-3.md  2023-10-06-talk-4.md 23-talk-3.md\n",
      "2020-04-24-sem-2.md  2024-09-17-talk-5.md 23-talk-4.md\n",
      "2021-09-14-talk-1.md 2024-10-09-talk-6.md 24-talk-5.md\n",
      "2022-06-27-talk-2.md 21-talk-1.md         24-talk-6.md\n"
     ]
    }
   ],
   "source": [
    "!ls ../_talks"
   ]
  },
  {
   "cell_type": "code",
   "execution_count": 49,
   "metadata": {
    "collapsed": false,
    "deletable": true,
    "editable": true
   },
   "outputs": [
    {
     "name": "stdout",
     "output_type": "stream",
     "text": [
      "cat: ../_talks/2013-03-01-tutorial-1.md: No such file or directory\n"
     ]
    }
   ],
   "source": [
    "!cat ../_talks/2013-03-01-tutorial-1.md"
   ]
  }
 ],
 "metadata": {
  "kernelspec": {
   "display_name": "Python 3",
   "language": "python",
   "name": "python3"
  },
  "language_info": {
   "codemirror_mode": {
    "name": "ipython",
    "version": 3
   },
   "file_extension": ".py",
   "mimetype": "text/x-python",
   "name": "python",
   "nbconvert_exporter": "python",
   "pygments_lexer": "ipython3",
   "version": "3.9.6"
  }
 },
 "nbformat": 4,
 "nbformat_minor": 0
}
